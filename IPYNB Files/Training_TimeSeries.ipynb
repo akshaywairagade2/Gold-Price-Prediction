{
  "nbformat": 4,
  "nbformat_minor": 0,
  "metadata": {
    "colab": {
      "name": "Training_TimeSeries_Q3_Q4.ipynb",
      "provenance": [],
      "collapsed_sections": []
    },
    "kernelspec": {
      "name": "python3",
      "display_name": "Python 3"
    },
    "language_info": {
      "name": "python"
    }
  },
  "cells": [
    {
      "cell_type": "markdown",
      "source": [
        "**Q3.Validation of ARIMA model on 100 most recent days.**\n"
      ],
      "metadata": {
        "id": "8Z67ajmE09GI"
      }
    },
    {
      "cell_type": "code",
      "source": [
        "import pandas as pd\n",
        "from matplotlib import pyplot\n",
        "%matplotlib inline"
      ],
      "metadata": {
        "id": "elzTPxM-C4_P"
      },
      "execution_count": 1,
      "outputs": []
    },
    {
      "cell_type": "code",
      "source": [
        "df=pd.read_csv('Daily_Gold_Price_on_World.csv')\n",
        "df['Date']=pd.to_datetime(df['Date'])"
      ],
      "metadata": {
        "id": "db-yhz5MEajU"
      },
      "execution_count": 3,
      "outputs": []
    },
    {
      "cell_type": "markdown",
      "source": [
        "Made a new dataset which contained only the prices of India and dates so that task can be done easily."
      ],
      "metadata": {
        "id": "qi30VtRh1Lgp"
      }
    },
    {
      "cell_type": "code",
      "source": [
        "df2=df[['Date','Indian rupee (INR)']]\n",
        "from google.colab import files\n",
        "\n",
        "df2.to_csv('Only_India_Daily.csv', encoding = 'utf-8-sig',index=False) \n",
        "files.download('Only_India_Daily.csv')\n",
        "df2.head()"
      ],
      "metadata": {
        "colab": {
          "base_uri": "https://localhost:8080/",
          "height": 206
        },
        "id": "ybEtkhhKbQa4",
        "outputId": "5f173fc4-1851-4da0-cc0c-025beee2f59f"
      },
      "execution_count": 9,
      "outputs": [
        {
          "output_type": "display_data",
          "data": {
            "text/plain": [
              "<IPython.core.display.Javascript object>"
            ],
            "application/javascript": [
              "\n",
              "    async function download(id, filename, size) {\n",
              "      if (!google.colab.kernel.accessAllowed) {\n",
              "        return;\n",
              "      }\n",
              "      const div = document.createElement('div');\n",
              "      const label = document.createElement('label');\n",
              "      label.textContent = `Downloading \"${filename}\": `;\n",
              "      div.appendChild(label);\n",
              "      const progress = document.createElement('progress');\n",
              "      progress.max = size;\n",
              "      div.appendChild(progress);\n",
              "      document.body.appendChild(div);\n",
              "\n",
              "      const buffers = [];\n",
              "      let downloaded = 0;\n",
              "\n",
              "      const channel = await google.colab.kernel.comms.open(id);\n",
              "      // Send a message to notify the kernel that we're ready.\n",
              "      channel.send({})\n",
              "\n",
              "      for await (const message of channel.messages) {\n",
              "        // Send a message to notify the kernel that we're ready.\n",
              "        channel.send({})\n",
              "        if (message.buffers) {\n",
              "          for (const buffer of message.buffers) {\n",
              "            buffers.push(buffer);\n",
              "            downloaded += buffer.byteLength;\n",
              "            progress.value = downloaded;\n",
              "          }\n",
              "        }\n",
              "      }\n",
              "      const blob = new Blob(buffers, {type: 'application/binary'});\n",
              "      const a = document.createElement('a');\n",
              "      a.href = window.URL.createObjectURL(blob);\n",
              "      a.download = filename;\n",
              "      div.appendChild(a);\n",
              "      a.click();\n",
              "      div.remove();\n",
              "    }\n",
              "  "
            ]
          },
          "metadata": {}
        },
        {
          "output_type": "display_data",
          "data": {
            "text/plain": [
              "<IPython.core.display.Javascript object>"
            ],
            "application/javascript": [
              "download(\"download_35667790-dd5a-480c-b7f6-eee57011ef1c\", \"Only_India_Daily.csv\", 221237)"
            ]
          },
          "metadata": {}
        },
        {
          "output_type": "execute_result",
          "data": {
            "text/plain": [
              "        Date  Indian rupee (INR)\n",
              "0 1979-01-01                0.00\n",
              "1 1979-01-02             1792.85\n",
              "2 1979-01-03             1802.15\n",
              "3 1979-01-04             1811.74\n",
              "4 1979-01-05             1843.57"
            ],
            "text/html": [
              "\n",
              "  <div id=\"df-368be4f7-ac46-4657-b176-34f4f3c7f46e\">\n",
              "    <div class=\"colab-df-container\">\n",
              "      <div>\n",
              "<style scoped>\n",
              "    .dataframe tbody tr th:only-of-type {\n",
              "        vertical-align: middle;\n",
              "    }\n",
              "\n",
              "    .dataframe tbody tr th {\n",
              "        vertical-align: top;\n",
              "    }\n",
              "\n",
              "    .dataframe thead th {\n",
              "        text-align: right;\n",
              "    }\n",
              "</style>\n",
              "<table border=\"1\" class=\"dataframe\">\n",
              "  <thead>\n",
              "    <tr style=\"text-align: right;\">\n",
              "      <th></th>\n",
              "      <th>Date</th>\n",
              "      <th>Indian rupee (INR)</th>\n",
              "    </tr>\n",
              "  </thead>\n",
              "  <tbody>\n",
              "    <tr>\n",
              "      <th>0</th>\n",
              "      <td>1979-01-01</td>\n",
              "      <td>0.00</td>\n",
              "    </tr>\n",
              "    <tr>\n",
              "      <th>1</th>\n",
              "      <td>1979-01-02</td>\n",
              "      <td>1792.85</td>\n",
              "    </tr>\n",
              "    <tr>\n",
              "      <th>2</th>\n",
              "      <td>1979-01-03</td>\n",
              "      <td>1802.15</td>\n",
              "    </tr>\n",
              "    <tr>\n",
              "      <th>3</th>\n",
              "      <td>1979-01-04</td>\n",
              "      <td>1811.74</td>\n",
              "    </tr>\n",
              "    <tr>\n",
              "      <th>4</th>\n",
              "      <td>1979-01-05</td>\n",
              "      <td>1843.57</td>\n",
              "    </tr>\n",
              "  </tbody>\n",
              "</table>\n",
              "</div>\n",
              "      <button class=\"colab-df-convert\" onclick=\"convertToInteractive('df-368be4f7-ac46-4657-b176-34f4f3c7f46e')\"\n",
              "              title=\"Convert this dataframe to an interactive table.\"\n",
              "              style=\"display:none;\">\n",
              "        \n",
              "  <svg xmlns=\"http://www.w3.org/2000/svg\" height=\"24px\"viewBox=\"0 0 24 24\"\n",
              "       width=\"24px\">\n",
              "    <path d=\"M0 0h24v24H0V0z\" fill=\"none\"/>\n",
              "    <path d=\"M18.56 5.44l.94 2.06.94-2.06 2.06-.94-2.06-.94-.94-2.06-.94 2.06-2.06.94zm-11 1L8.5 8.5l.94-2.06 2.06-.94-2.06-.94L8.5 2.5l-.94 2.06-2.06.94zm10 10l.94 2.06.94-2.06 2.06-.94-2.06-.94-.94-2.06-.94 2.06-2.06.94z\"/><path d=\"M17.41 7.96l-1.37-1.37c-.4-.4-.92-.59-1.43-.59-.52 0-1.04.2-1.43.59L10.3 9.45l-7.72 7.72c-.78.78-.78 2.05 0 2.83L4 21.41c.39.39.9.59 1.41.59.51 0 1.02-.2 1.41-.59l7.78-7.78 2.81-2.81c.8-.78.8-2.07 0-2.86zM5.41 20L4 18.59l7.72-7.72 1.47 1.35L5.41 20z\"/>\n",
              "  </svg>\n",
              "      </button>\n",
              "      \n",
              "  <style>\n",
              "    .colab-df-container {\n",
              "      display:flex;\n",
              "      flex-wrap:wrap;\n",
              "      gap: 12px;\n",
              "    }\n",
              "\n",
              "    .colab-df-convert {\n",
              "      background-color: #E8F0FE;\n",
              "      border: none;\n",
              "      border-radius: 50%;\n",
              "      cursor: pointer;\n",
              "      display: none;\n",
              "      fill: #1967D2;\n",
              "      height: 32px;\n",
              "      padding: 0 0 0 0;\n",
              "      width: 32px;\n",
              "    }\n",
              "\n",
              "    .colab-df-convert:hover {\n",
              "      background-color: #E2EBFA;\n",
              "      box-shadow: 0px 1px 2px rgba(60, 64, 67, 0.3), 0px 1px 3px 1px rgba(60, 64, 67, 0.15);\n",
              "      fill: #174EA6;\n",
              "    }\n",
              "\n",
              "    [theme=dark] .colab-df-convert {\n",
              "      background-color: #3B4455;\n",
              "      fill: #D2E3FC;\n",
              "    }\n",
              "\n",
              "    [theme=dark] .colab-df-convert:hover {\n",
              "      background-color: #434B5C;\n",
              "      box-shadow: 0px 1px 3px 1px rgba(0, 0, 0, 0.15);\n",
              "      filter: drop-shadow(0px 1px 2px rgba(0, 0, 0, 0.3));\n",
              "      fill: #FFFFFF;\n",
              "    }\n",
              "  </style>\n",
              "\n",
              "      <script>\n",
              "        const buttonEl =\n",
              "          document.querySelector('#df-368be4f7-ac46-4657-b176-34f4f3c7f46e button.colab-df-convert');\n",
              "        buttonEl.style.display =\n",
              "          google.colab.kernel.accessAllowed ? 'block' : 'none';\n",
              "\n",
              "        async function convertToInteractive(key) {\n",
              "          const element = document.querySelector('#df-368be4f7-ac46-4657-b176-34f4f3c7f46e');\n",
              "          const dataTable =\n",
              "            await google.colab.kernel.invokeFunction('convertToInteractive',\n",
              "                                                     [key], {});\n",
              "          if (!dataTable) return;\n",
              "\n",
              "          const docLinkHtml = 'Like what you see? Visit the ' +\n",
              "            '<a target=\"_blank\" href=https://colab.research.google.com/notebooks/data_table.ipynb>data table notebook</a>'\n",
              "            + ' to learn more about interactive tables.';\n",
              "          element.innerHTML = '';\n",
              "          dataTable['output_type'] = 'display_data';\n",
              "          await google.colab.output.renderOutput(dataTable, element);\n",
              "          const docLink = document.createElement('div');\n",
              "          docLink.innerHTML = docLinkHtml;\n",
              "          element.appendChild(docLink);\n",
              "        }\n",
              "      </script>\n",
              "    </div>\n",
              "  </div>\n",
              "  "
            ]
          },
          "metadata": {},
          "execution_count": 9
        }
      ]
    },
    {
      "cell_type": "code",
      "source": [
        "series = pd.read_csv('Only_India_Daily.csv', header=0, parse_dates=[0], index_col=0, squeeze=True)\n",
        "print(series.head())\n",
        "series.plot()\n",
        "pyplot.show()"
      ],
      "metadata": {
        "colab": {
          "base_uri": "https://localhost:8080/",
          "height": 401
        },
        "id": "r6V4b-lrng_3",
        "outputId": "e3286bc1-401e-42b3-d5a2-f0367b5b6af7"
      },
      "execution_count": 54,
      "outputs": [
        {
          "output_type": "stream",
          "name": "stdout",
          "text": [
            "Date\n",
            "1979-01-01       0.00\n",
            "1979-01-02    1792.85\n",
            "1979-01-03    1802.15\n",
            "1979-01-04    1811.74\n",
            "1979-01-05    1843.57\n",
            "Name: Indian rupee (INR), dtype: float64\n"
          ]
        },
        {
          "output_type": "display_data",
          "data": {
            "text/plain": [
              "<Figure size 432x288 with 1 Axes>"
            ],
            "image/png": "[encoded data removed]"
          },
          "metadata": {
            "needs_background": "light"
          }
        }
      ]
    },
    {
      "cell_type": "code",
      "source": [
        "!pip install statsmodels"
      ],
      "metadata": {
        "colab": {
          "base_uri": "https://localhost:8080/"
        },
        "id": "IN1GT0WMpEyl",
        "outputId": "e955f887-10f4-4e66-f319-6f66b08ba98c"
      },
      "execution_count": null,
      "outputs": [
        {
          "output_type": "stream",
          "name": "stdout",
          "text": [
            "Requirement already satisfied: statsmodels in /usr/local/lib/python3.7/dist-packages (0.10.2)\n",
            "Requirement already satisfied: patsy>=0.4.0 in /usr/local/lib/python3.7/dist-packages (from statsmodels) (0.5.2)\n",
            "Requirement already satisfied: pandas>=0.19 in /usr/local/lib/python3.7/dist-packages (from statsmodels) (1.3.5)\n",
            "Requirement already satisfied: numpy>=1.11 in /usr/local/lib/python3.7/dist-packages (from statsmodels) (1.21.5)\n",
            "Requirement already satisfied: scipy>=0.18 in /usr/local/lib/python3.7/dist-packages (from statsmodels) (1.4.1)\n",
            "Requirement already satisfied: pytz>=2017.3 in /usr/local/lib/python3.7/dist-packages (from pandas>=0.19->statsmodels) (2018.9)\n",
            "Requirement already satisfied: python-dateutil>=2.7.3 in /usr/local/lib/python3.7/dist-packages (from pandas>=0.19->statsmodels) (2.8.2)\n",
            "Requirement already satisfied: six in /usr/local/lib/python3.7/dist-packages (from patsy>=0.4.0->statsmodels) (1.15.0)\n"
          ]
        }
      ]
    },
    {
      "cell_type": "markdown",
      "source": [
        "Analysis based on the ARIMA model"
      ],
      "metadata": {
        "id": "RFsZtlpS2oYS"
      }
    },
    {
      "cell_type": "code",
      "source": [
        "# from statsmodels.tsa.arima.model import ARIMA\n",
        "from statsmodels.tsa.arima_model import ARIMA\n",
        "series.index = series.index.to_period('M')\n",
        "# fit model\n",
        "model = ARIMA(series, order=(5,1,0))\n",
        "model_fit = model.fit()\n",
        "# summary of fit model\n",
        "print(model_fit.summary())\n",
        "# line plot of residuals\n",
        "residuals = pd.DataFrame(model_fit.resid)\n",
        "residuals.plot()\n",
        "pyplot.show()\n",
        "# density plot of residuals\n",
        "residuals.plot(kind='kde')\n",
        "pyplot.show()\n",
        "# summary stats of residuals\n",
        "print(residuals.describe())"
      ],
      "metadata": {
        "colab": {
          "base_uri": "https://localhost:8080/",
          "height": 1000
        },
        "id": "EMH1QvVopAVV",
        "outputId": "79d1fb46-c635-40dc-8c3c-1b933c73bd9a"
      },
      "execution_count": 52,
      "outputs": [
        {
          "output_type": "stream",
          "name": "stdout",
          "text": [
            "                              ARIMA Model Results                               \n",
            "================================================================================\n",
            "Dep. Variable:     D.Indian rupee (INR)   No. Observations:                11269\n",
            "Model:                   ARIMA(5, 1, 0)   Log Likelihood              -86705.923\n",
            "Method:                         css-mle   S.D. of innovations            531.264\n",
            "Date:                  Tue, 05 Apr 2022   AIC                         173425.847\n",
            "Time:                          17:41:52   BIC                         173477.155\n",
            "Sample:                      01-31-1979   HQIC                        173443.112\n",
            "                           - 03-31-2022                                         \n",
            "==============================================================================================\n",
            "                                 coef    std err          z      P>|z|      [0.025      0.975]\n",
            "----------------------------------------------------------------------------------------------\n",
            "const                         13.4494      4.696      2.864      0.004       4.246      22.653\n",
            "ar.L1.D.Indian rupee (INR)    -0.0138      0.009     -1.467      0.142      -0.032       0.005\n",
            "ar.L2.D.Indian rupee (INR)    -0.0015      0.009     -0.157      0.876      -0.020       0.017\n",
            "ar.L3.D.Indian rupee (INR)    -0.0110      0.009     -1.168      0.243      -0.030       0.007\n",
            "ar.L4.D.Indian rupee (INR)    -0.0345      0.009     -3.641      0.000      -0.053      -0.016\n",
            "ar.L5.D.Indian rupee (INR)    -0.0050      0.010     -0.522      0.602      -0.024       0.014\n",
            "                                    Roots                                    \n",
            "=============================================================================\n",
            "                  Real          Imaginary           Modulus         Frequency\n",
            "-----------------------------------------------------------------------------\n",
            "AR.1            1.5572           -1.5120j            2.1704           -0.1227\n",
            "AR.2            1.5572           +1.5120j            2.1704            0.1227\n",
            "AR.3           -1.6745           -1.8875j            2.5232           -0.3655\n",
            "AR.4           -1.6745           +1.8875j            2.5232            0.3655\n",
            "AR.5           -6.7157           -0.0000j            6.7157           -0.5000\n",
            "-----------------------------------------------------------------------------\n"
          ]
        },
        {
          "output_type": "display_data",
          "data": {
            "text/plain": [
              "<Figure size 432x288 with 1 Axes>"
            ],
            "image/png": "[encoded data removed]"
          },
          "metadata": {
            "needs_background": "light"
          }
        },
        {
          "output_type": "display_data",
          "data": {
            "text/plain": [
              "<Figure size 432x288 with 1 Axes>"
            ],
            "image/png": "[encoded data removed]"
          },
          "metadata": {
            "needs_background": "light"
          }
        },
        {
          "output_type": "stream",
          "name": "stdout",
          "text": [
            "                  0\n",
            "count  11269.000000\n",
            "mean       0.007542\n",
            "std      531.288341\n",
            "min    -7899.497678\n",
            "25%      -87.981669\n",
            "50%      -11.046143\n",
            "75%       74.831913\n",
            "max     5102.736038\n"
          ]
        }
      ]
    },
    {
      "cell_type": "markdown",
      "source": [
        "Used value of p,d,q as 5 1 0 respectively .Took this values after reading a blog on machine learning concept. Got the best predictions with this values . Tries with other values too but the values mentioned above gave the best answer."
      ],
      "metadata": {
        "id": "XSjPMqpj157g"
      }
    },
    {
      "cell_type": "markdown",
      "source": [
        "Test data of size 0.01 which is approximately 100 days.\n",
        "Hence validated the data on 100 days.\n",
        "\n",
        "The red lines show the predicted value while the blue line shows the expected value."
      ],
      "metadata": {
        "id": "KKz_TQpl2NCu"
      }
    },
    {
      "cell_type": "code",
      "source": [
        "from sklearn.metrics import mean_squared_error\n",
        "from sklearn.metrics import mean_absolute_error\n",
        "from sklearn.metrics import mean_absolute_percentage_error\n",
        "from math import sqrt\n",
        "series.index = series.index.to_period('M')\n",
        "# split into train and test sets\n",
        "X = series.values\n",
        "size = int(len(X) * 0.99)\n",
        "train, test = X[0:size], X[size:len(X)]\n",
        "history = [x for x in train]\n",
        "predictions = list()\n",
        "# walk-forward validation\n",
        "for t in range(len(test)):\n",
        "\tmodel = ARIMA(history, order=(5,1,0))\n",
        "\tmodel_fit = model.fit()\n",
        "\toutput = model_fit.forecast()\n",
        "\tyhat = output[0]\n",
        "\tpredictions.append(yhat)\n",
        "\tobs = test[t]\n",
        "\thistory.append(obs)\n",
        "\tprint('predicted=%f, expected=%f' % (yhat, obs))\n",
        "# evaluate forecasts\n",
        "mae=mean_absolute_error(test,predictions)\n",
        "rmse = sqrt(mean_squared_error(test, predictions))\n",
        "mape=mean_absolute_percentage_error(test,predictions)\n",
        "print('Test RMSE: %.3f' % rmse)\n",
        "print('Test MAE: %.3f' % mae)\n",
        "print('Test MAPE: %.3f' % mape)\n",
        "# plot forecasts against actual outcomes\n",
        "pyplot.plot(test)\n",
        "pyplot.plot(predictions, color='red')\n",
        "pyplot.show()"
      ],
      "metadata": {
        "colab": {
          "base_uri": "https://localhost:8080/",
          "height": 1000
        },
        "id": "us-5jQlIqMbU",
        "outputId": "8a389b21-8ed8-42f2-c19f-1fa5d5d0802d"
      },
      "execution_count": 55,
      "outputs": [
        {
          "output_type": "stream",
          "name": "stdout",
          "text": [
            "predicted=130503.409532, expected=131946.700000\n",
            "predicted=131912.762885, expected=131778.660000\n",
            "predicted=131784.805883, expected=132967.150000\n",
            "predicted=132942.815605, expected=132452.100000\n",
            "predicted=132418.707172, expected=133482.800000\n",
            "predicted=133468.500109, expected=134597.130000\n",
            "predicted=134570.492309, expected=135366.830000\n",
            "predicted=135379.350845, expected=133406.350000\n",
            "predicted=133376.425586, expected=133202.020000\n",
            "predicted=133149.214042, expected=134083.580000\n",
            "predicted=134091.147113, expected=133132.200000\n",
            "predicted=133228.366327, expected=133207.300000\n",
            "predicted=133217.680291, expected=135456.010000\n",
            "predicted=135437.742452, expected=135551.710000\n",
            "predicted=135599.179593, expected=133849.300000\n",
            "predicted=133839.494778, expected=134690.880000\n",
            "predicted=134610.118862, expected=135131.750000\n",
            "predicted=135150.574221, expected=132476.160000\n",
            "predicted=132558.308013, expected=134305.220000\n",
            "predicted=134278.632157, expected=133724.230000\n",
            "predicted=133754.533505, expected=131317.500000\n",
            "predicted=131429.961655, expected=133752.550000\n",
            "predicted=133696.936743, expected=134177.020000\n",
            "predicted=134212.182848, expected=134897.190000\n",
            "predicted=134980.450660, expected=135281.880000\n",
            "predicted=135206.181583, expected=138288.220000\n",
            "predicted=138222.971216, expected=138442.620000\n",
            "predicted=138416.748842, expected=138486.600000\n",
            "predicted=138447.874361, expected=138531.200000\n",
            "predicted=138422.496477, expected=138273.350000\n",
            "predicted=138250.233012, expected=138510.780000\n",
            "predicted=138518.185820, expected=138122.630000\n",
            "predicted=138139.529321, expected=138182.030000\n",
            "predicted=138202.059647, expected=135123.290000\n",
            "predicted=135161.874759, expected=133153.010000\n",
            "predicted=133191.868905, expected=132580.070000\n",
            "predicted=132626.148135, expected=133232.810000\n",
            "predicted=133377.827856, expected=134830.400000\n",
            "predicted=134949.368278, expected=134115.910000\n",
            "predicted=134167.470760, expected=135605.160000\n",
            "predicted=135569.821189, expected=134037.190000\n",
            "predicted=134001.589096, expected=132363.970000\n",
            "predicted=132384.666085, expected=132864.530000\n",
            "predicted=132837.028231, expected=134150.220000\n",
            "predicted=134219.798277, expected=134378.370000\n",
            "predicted=134466.703629, expected=134601.090000\n",
            "predicted=134594.695736, expected=134139.280000\n",
            "predicted=134095.247123, expected=134862.780000\n",
            "predicted=134845.733405, expected=135454.910000\n",
            "predicted=135457.025191, expected=134828.940000\n",
            "predicted=134853.782445, expected=134828.600000\n",
            "predicted=134810.805623, expected=136639.300000\n",
            "predicted=136614.909243, expected=137536.590000\n",
            "predicted=137559.763284, expected=136370.610000\n",
            "predicted=136375.883174, expected=135609.740000\n",
            "predicted=135548.760766, expected=135441.560000\n",
            "predicted=135417.558129, expected=135832.270000\n",
            "predicted=135889.086287, expected=135430.610000\n",
            "predicted=135488.867376, expected=135393.430000\n",
            "predicted=135417.093721, expected=134780.740000\n",
            "predicted=134789.121093, expected=134088.790000\n",
            "predicted=134120.049846, expected=134395.880000\n",
            "predicted=134420.907723, expected=134239.040000\n",
            "predicted=134284.789035, expected=134100.170000\n",
            "predicted=134143.681816, expected=135054.630000\n",
            "predicted=135057.816689, expected=135794.290000\n",
            "predicted=135804.649274, expected=133302.110000\n",
            "predicted=133326.538718, expected=133203.630000\n",
            "predicted=133180.589344, expected=132838.080000\n",
            "predicted=132844.174378, expected=133545.110000\n",
            "predicted=133645.034692, expected=134637.880000\n",
            "predicted=134673.880858, expected=134498.840000\n",
            "predicted=134515.968271, expected=135193.430000\n",
            "predicted=135163.699428, expected=134957.190000\n",
            "predicted=134920.794712, expected=135535.050000\n",
            "predicted=135530.953869, expected=135995.870000\n",
            "predicted=135980.418928, expected=137492.420000\n",
            "predicted=137489.632114, expected=136769.180000\n",
            "predicted=136757.219093, expected=136580.130000\n",
            "predicted=136554.009648, expected=138136.480000\n",
            "predicted=138084.301683, expected=137287.750000\n",
            "predicted=137319.275851, expected=135646.270000\n",
            "predicted=135671.495748, expected=134179.460000\n",
            "predicted=134158.729400, expected=133966.040000\n",
            "predicted=134022.965444, expected=134634.460000\n",
            "predicted=134734.902294, expected=134985.160000\n",
            "predicted=135069.829147, expected=134203.850000\n",
            "predicted=134233.712526, expected=134824.620000\n",
            "predicted=134807.839014, expected=135485.790000\n",
            "predicted=135481.556777, expected=136243.910000\n",
            "predicted=136268.939040, expected=136737.720000\n",
            "predicted=136719.639209, expected=137564.080000\n",
            "predicted=137529.549085, expected=138032.080000\n",
            "predicted=137998.001650, expected=141076.270000\n",
            "predicted=141037.034683, expected=139279.000000\n",
            "predicted=139254.421125, expected=139837.030000\n",
            "predicted=139788.312697, expected=142212.290000\n",
            "predicted=142105.316909, expected=141361.980000\n",
            "predicted=141410.637352, expected=141134.150000\n",
            "predicted=141125.290039, expected=142274.750000\n",
            "predicted=142191.637193, expected=142026.330000\n",
            "predicted=142048.407772, expected=146485.940000\n",
            "predicted=146469.299583, expected=141901.880000\n",
            "predicted=141930.166839, expected=143902.430000\n",
            "predicted=143836.208183, expected=144817.900000\n",
            "predicted=144685.180740, expected=146016.380000\n",
            "predicted=146133.852027, expected=146478.360000\n",
            "predicted=146421.490633, expected=148158.920000\n",
            "predicted=148086.668499, expected=152468.770000\n",
            "predicted=152377.399397, expected=156815.690000\n",
            "predicted=156782.641764, expected=152282.610000\n",
            "predicted=152244.680489, expected=152350.570000\n",
            "predicted=152177.421818, expected=151561.000000\n",
            "Test RMSE: 1472.953\n",
            "Test MAE: 1049.322\n",
            "Test MAPE: 0.008\n"
          ]
        },
        {
          "output_type": "display_data",
          "data": {
            "text/plain": [
              "<Figure size 432x288 with 1 Axes>"
            ],
            "image/png": "[encoded data removed]"
          },
          "metadata": {
            "needs_background": "light"
          }
        }
      ]
    },
    {
      "cell_type": "markdown",
      "source": [
        "**Q4.Prediction for the next 20 days from the Data.**\n",
        "\n",
        "Used the ARIMA model and appended the predicted data in the history data for getting the new history and predicting the next day's price.\n",
        "\n",
        "The last day present in our training dataset was 11-03-2022 . So the data is predicted for next 20 days from 11-03-2022."
      ],
      "metadata": {
        "id": "kGQNcWH5w8Sd"
      }
    },
    {
      "cell_type": "code",
      "source": [
        "from sklearn.metrics import mean_squared_error\n",
        "from math import sqrt\n",
        "series.index = series.index.to_period('M')\n",
        "X = series.values\n",
        "train=X\n",
        "history = [x for x in train]\n",
        "predictions = list()\n",
        "# walk-forward validation\n",
        "for t in range(20):\n",
        "\tmodel = ARIMA(history, order=(5,1,0))\n",
        "\tmodel_fit = model.fit()\n",
        "\toutput = model_fit.forecast()\n",
        "\tyhat = output[0]\n",
        "\tpredictions.append(yhat)\n",
        "\thistory.append(yhat)\n",
        "\tprint('predicted=%f' % (yhat))\n",
        "pyplot.plot(predictions, color='red')\n",
        "pyplot.show()"
      ],
      "metadata": {
        "colab": {
          "base_uri": "https://localhost:8080/",
          "height": 701
        },
        "id": "k4A34GnYmObe",
        "outputId": "71236ccf-e915-4c6d-af32-a1ac5e32b2c1"
      },
      "execution_count": 44,
      "outputs": [
        {
          "output_type": "stream",
          "name": "stdout",
          "text": [
            "predicted=151464.788585\n"
          ]
        },
        {
          "output_type": "stream",
          "name": "stderr",
          "text": [
            "/usr/local/lib/python3.7/dist-packages/statsmodels/base/data.py:629: VisibleDeprecationWarning: Creating an ndarray from ragged nested sequences (which is a list-or-tuple of lists-or-tuples-or ndarrays with different lengths or shapes) is deprecated. If you meant to do this, you must specify 'dtype=object' when creating the ndarray.\n",
            "  endog = np.asarray(endog)\n",
            "/usr/local/lib/python3.7/dist-packages/statsmodels/tsa/arima_model.py:424: VisibleDeprecationWarning: Creating an ndarray from ragged nested sequences (which is a list-or-tuple of lists-or-tuples-or ndarrays with different lengths or shapes) is deprecated. If you meant to do this, you must specify 'dtype=object' when creating the ndarray.\n",
            "  _endog = endog if hasattr(endog, 'ndim') else np.asarray(endog)\n"
          ]
        },
        {
          "output_type": "stream",
          "name": "stdout",
          "text": [
            "predicted=151615.698747\n",
            "predicted=151656.966259\n",
            "predicted=151698.481720\n",
            "predicted=151717.743763\n",
            "predicted=151726.569321\n",
            "predicted=151738.119828\n",
            "predicted=151750.433130\n",
            "predicted=151763.621608\n",
            "predicted=151777.235627\n",
            "predicted=151790.789377\n",
            "predicted=151804.290526\n",
            "predicted=151817.759587\n",
            "predicted=151831.210804\n",
            "predicted=151844.662863\n",
            "predicted=151858.117404\n",
            "predicted=151871.548858\n",
            "predicted=151885.006793\n",
            "predicted=151898.453477\n",
            "predicted=151911.910609\n"
          ]
        },
        {
          "output_type": "display_data",
          "data": {
            "text/plain": [
              "<Figure size 432x288 with 1 Axes>"
            ],
            "image/png": "[encoded data removed]"
          },
          "metadata": {
            "needs_background": "light"
          }
        }
      ]
    }
  ]
}